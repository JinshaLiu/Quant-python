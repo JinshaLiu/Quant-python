{
 "cells": [
  {
   "cell_type": "code",
   "execution_count": 11,
   "metadata": {},
   "outputs": [
    {
     "data": {
      "text/plain": [
       "{3: 22284,\n",
       " 5: 17303,\n",
       " 7: 13519,\n",
       " 9: 10439,\n",
       " 11: 8125,\n",
       " 13: 6233,\n",
       " 15: 4984,\n",
       " 17: 3837,\n",
       " 19: 2994,\n",
       " 21: 2300,\n",
       " 23: 1763,\n",
       " 25: 1386,\n",
       " 27: 1060,\n",
       " 29: 851,\n",
       " 31: 641,\n",
       " 33: 521,\n",
       " 35: 349,\n",
       " 37: 337,\n",
       " 39: 218,\n",
       " 41: 177,\n",
       " 43: 154,\n",
       " 45: 110,\n",
       " 47: 91,\n",
       " 49: 70,\n",
       " 51: 60,\n",
       " 53: 47,\n",
       " 55: 37,\n",
       " 57: 25,\n",
       " 59: 17,\n",
       " 61: 13,\n",
       " 63: 12,\n",
       " 65: 7,\n",
       " 67: 10,\n",
       " 69: 7,\n",
       " 71: 2,\n",
       " 73: 6,\n",
       " 75: 3,\n",
       " 77: 2,\n",
       " 81: 3,\n",
       " 83: 1,\n",
       " 89: 1,\n",
       " 103: 1}"
      ]
     },
     "execution_count": 11,
     "metadata": {},
     "output_type": "execute_result"
    }
   ],
   "source": [
    "from random import randint\n",
    "def sum2(vertix):\n",
    "    sum_ = 0;\n",
    "    for coordinate in vertix:\n",
    "        sum_ += coordinate\n",
    "    return sum_\n",
    "    \n",
    "def number_of_moves(dimension):\n",
    "    vertex = [0] * dimension\n",
    "    move_count = 0\n",
    "    while sum2(vertex) < dimension:\n",
    "        axis = randint(0, dimension-1)\n",
    "        vertex[axis] = 1 - vertex[axis]\n",
    "        move_count += 1\n",
    "    return move_count\n",
    "\n",
    "number_of_trials = 100000\n",
    "# sum2([number_of_moves(2) for i in range(number_of_trials)]) / number_of_trials\n",
    "trials = [number_of_moves(3) for i in range(number_of_trials)]\n",
    "# initialize dictionary to count frequency of number of moves\n",
    "number_moves_count = {trials:0 for trials in trials}\n",
    "for trial in trials:\n",
    "    number_moves_count[trial] += 1\n",
    "number_moves_count"
   ]
  },
  {
   "cell_type": "code",
   "execution_count": null,
   "metadata": {
    "collapsed": true
   },
   "outputs": [],
   "source": []
  }
 ],
 "metadata": {
  "kernelspec": {
   "display_name": "Python 3",
   "language": "python",
   "name": "python3"
  },
  "language_info": {
   "codemirror_mode": {
    "name": "ipython",
    "version": 3
   },
   "file_extension": ".py",
   "mimetype": "text/x-python",
   "name": "python",
   "nbconvert_exporter": "python",
   "pygments_lexer": "ipython3",
   "version": "3.6.1"
  }
 },
 "nbformat": 4,
 "nbformat_minor": 2
}
