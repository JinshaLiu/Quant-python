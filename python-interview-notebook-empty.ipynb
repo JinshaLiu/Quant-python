{
 "cells": [
  {
   "cell_type": "markdown",
   "metadata": {},
   "source": [
    "### 1.1\n",
    "What is the value of $\\sqrt{2}^{\\sqrt{2}^{{\\sqrt{2}^{...}}}}$?"
   ]
  },
  {
   "cell_type": "code",
   "execution_count": 83,
   "metadata": {},
   "outputs": [
    {
     "data": {
      "text/plain": [
       "2.0000000000000004"
      ]
     },
     "execution_count": 83,
     "metadata": {},
     "output_type": "execute_result"
    }
   ],
   "source": [
    "result = 2**0.5\n",
    "for i in range(100):\n",
    "    result = (2**0.5)**result\n",
    "result\n"
   ]
  },
  {
   "cell_type": "code",
   "execution_count": null,
   "metadata": {
    "collapsed": true
   },
   "outputs": [],
   "source": []
  },
  {
   "cell_type": "markdown",
   "metadata": {},
   "source": [
    "### 3.1\n",
    "You have a bag with two coins. One will come up heads 40% of the time, and the other will come up heads 60%. You pick a coin randomly, flip it and get a head. What is the probability it will be heads on the next flip?"
   ]
  },
  {
   "cell_type": "code",
   "execution_count": 39,
   "metadata": {
    "scrolled": false
   },
   "outputs": [
    {
     "data": {
      "text/plain": [
       "0.5182"
      ]
     },
     "execution_count": 39,
     "metadata": {},
     "output_type": "execute_result"
    }
   ],
   "source": [
    "import numpy as np\n",
    "class Coin(object):\n",
    "    def __init__(self, p):\n",
    "        self.prob_heads = p\n",
    "        \n",
    "    def flip_is_head(self):\n",
    "        return np.random.random() < self.prob_heads\n",
    "    \n",
    "    def __repr__(self):\n",
    "        return 'Coin with p = ' + str(self.prob_heads)\n",
    "        \n",
    "class Bag_of_coins(object):\n",
    "    def __init__(self):\n",
    "        self.coins = []\n",
    "        \n",
    "    def add_coin(self,coin):\n",
    "            self.coins.append(coin)\n",
    "    \n",
    "    def pick_random_coin(self):\n",
    "        return np.random.choice(self.coins)\n",
    "        \n",
    "bag = Bag_of_coins()\n",
    "bag.add_coin(Coin(0.6))\n",
    "bag.add_coin(Coin(0.4))\n",
    "\n",
    "num_trials = 10000\n",
    "trial_ctr = 0\n",
    "head_ctr = 0\n",
    "while trial_ctr < num_trials:\n",
    "    coin = bag.pick_random_coin()\n",
    "    if coin.flip_is_head():\n",
    "        trial_ctr += 1\n",
    "        if coin.flip_is_head():\n",
    "            head_ctr += 1\n",
    "head_ctr/trial_ctr\n"
   ]
  },
  {
   "cell_type": "code",
   "execution_count": null,
   "metadata": {
    "collapsed": true
   },
   "outputs": [],
   "source": []
  },
  {
   "cell_type": "markdown",
   "metadata": {},
   "source": [
    "### 3.5\n",
    "Starting at one vertex of a cube, and moving randomly from vertex to adjacent vertices, what is the expected number of moves until you reach the  vertex opposite from your starting point?"
   ]
  },
  {
   "cell_type": "code",
   "execution_count": 9,
   "metadata": {},
   "outputs": [
    {
     "data": {
      "text/plain": [
       "10"
      ]
     },
     "execution_count": 9,
     "metadata": {},
     "output_type": "execute_result"
    }
   ],
   "source": [
    "10"
   ]
  },
  {
   "cell_type": "markdown",
   "metadata": {},
   "source": [
    "### 3.8\n",
    "You have a spinner that generates random numbers that are uniform between 0 and 1. You sum the spins until the sum is greater than one. What is the expected number of spins?"
   ]
  },
  {
   "cell_type": "code",
   "execution_count": 75,
   "metadata": {},
   "outputs": [
    {
     "name": "stdout",
     "output_type": "stream",
     "text": [
      "Populating the interactive namespace from numpy and matplotlib\n"
     ]
    },
    {
     "data": {
      "text/plain": [
       "2.7519999999999998"
      ]
     },
     "execution_count": 75,
     "metadata": {},
     "output_type": "execute_result"
    },
    {
     "data": {
      "image/png": "[encoded data removed]",
      "text/plain": [
       "<matplotlib.figure.Figure at 0x11375eb38>"
      ]
     },
     "metadata": {},
     "output_type": "display_data"
    }
   ],
   "source": [
    "% pylab inline\n",
    "import matplotlib.pyplot as plt\n",
    "def num_spins():\n",
    "    sum_ = 0\n",
    "    spins_ctr = 0\n",
    "    while sum_ <= 1:\n",
    "        spins_ctr += 1\n",
    "        sum_ += np.random.random()\n",
    "    return spins_ctr\n",
    "        \n",
    "num_trials = 1000\n",
    "sum_spin_ctr = 0\n",
    "for i in range(num_trials):\n",
    "    sum_spin_ctr += num_spins();\n",
    "(sum_spin_ctr / num_trials)\n",
    "\n",
    "trials = [num_spins() for _ in range(num_trials)]\n",
    "num_bins = np.max(trials) - np.min(trials) + 1\n",
    "plt.hist(trials, bins =num_bins, normed = True, align = 'left', rwidth = 0.3, range = (2,2 + num_bins))\n",
    "np.mean(trials)"
   ]
  },
  {
   "cell_type": "code",
   "execution_count": null,
   "metadata": {
    "collapsed": true
   },
   "outputs": [],
   "source": []
  },
  {
   "cell_type": "markdown",
   "metadata": {},
   "source": [
    "### 3.10\n",
    "A stick is broken randomly into 3 pieces. What is the probability of the pieces being able to form a triangle?"
   ]
  },
  {
   "cell_type": "code",
   "execution_count": 54,
   "metadata": {},
   "outputs": [
    {
     "data": {
      "text/plain": [
       "0.25025"
      ]
     },
     "execution_count": 54,
     "metadata": {},
     "output_type": "execute_result"
    }
   ],
   "source": [
    "def bool_trian():\n",
    "    a = np.random.random()\n",
    "    b = np.random.random()\n",
    "    first_piece = min(a,b)\n",
    "    second_piece = max(a,b)-first_piece\n",
    "    third_piece = 1 - second_piece - first_piece\n",
    "    return (first_piece+second_piece)> third_piece and abs(first_piece-second_piece) < third_piece\n",
    "\n",
    "num_trials =100000\n",
    "trian_ctr = 0\n",
    "for _ in range(num_trials):\n",
    "    if bool_trian():\n",
    "        trian_ctr += 1\n",
    "trian_ctr/num_trials"
   ]
  },
  {
   "cell_type": "markdown",
   "metadata": {},
   "source": [
    "### 3.11\n",
    "A stick is broken randomly into two pieces. The larger piece is then broken randomly into two pieces. What is the probability of the pieces being able to form a triangle?"
   ]
  },
  {
   "cell_type": "code",
   "execution_count": 84,
   "metadata": {},
   "outputs": [
    {
     "data": {
      "text/plain": [
       "0.19408"
      ]
     },
     "execution_count": 84,
     "metadata": {},
     "output_type": "execute_result"
    }
   ],
   "source": [
    "def bool_trian2():\n",
    "    a = np.random.random()\n",
    "    b = np.random.random()\n",
    "    first_piece = a\n",
    "    second_piece = (1 - a) * b\n",
    "    third_piece = 1 - second_piece - first_piece\n",
    "    return (first_piece+second_piece)> third_piece and abs(first_piece-second_piece) < third_piece\n",
    "\n",
    "num_trials =100000\n",
    "trian_ctr = 0\n",
    "for _ in range(num_trials):\n",
    "    if bool_trian2():\n",
    "        trian_ctr += 1\n",
    "trian_ctr/num_trials"
   ]
  },
  {
   "cell_type": "code",
   "execution_count": null,
   "metadata": {
    "collapsed": true
   },
   "outputs": [],
   "source": [
    "import numpy as np\n",
    "\n",
    "class TwoDiceGame(object):\n",
    "    def play(self):\n",
    "        winning = 0\n",
    "        two_of_same_seen = False\n",
    "        while True:\n",
    "            if two_of_same_seen:\n",
    "                if winnings >= 1:\n",
    "                    return winnings\n",
    "                if np.random.randint(4) == 0:\n",
    "                    return 0\n",
    "            else:\n",
    "                two_of_same_seen = np.random.randint(2) == 0\n",
    "            winnings += 1\n",
    "game = twoDiceGame()\n",
    "num_trials = 100\n",
    "trials = [game.play() for _ in range(num_trials)]\n",
    "num_bins = np.max(trials) - np.min(trials)\n",
    "\n",
    "\n"
   ]
  },
  {
   "cell_type": "markdown",
   "metadata": {},
   "source": [
    "### 5.2\n",
    "You have a basket of $n$ assets. The asset returns are multivariate normal with zero mean. Correlation between any pair of assets is 1/2. What is the probability that $k$ of the assets will have positive return?"
   ]
  },
  {
   "cell_type": "code",
   "execution_count": null,
   "metadata": {
    "collapsed": true
   },
   "outputs": [],
   "source": []
  }
 ],
 "metadata": {
  "kernelspec": {
   "display_name": "Python 3",
   "language": "python",
   "name": "python3"
  },
  "language_info": {
   "codemirror_mode": {
    "name": "ipython",
    "version": 3
   },
   "file_extension": ".py",
   "mimetype": "text/x-python",
   "name": "python",
   "nbconvert_exporter": "python",
   "pygments_lexer": "ipython3",
   "version": "3.6.1"
  }
 },
 "nbformat": 4,
 "nbformat_minor": 1
}
